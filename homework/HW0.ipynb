{
 "cells": [
  {
   "cell_type": "markdown",
   "id": "4b04539b",
   "metadata": {},
   "source": [
    "# **DS 6021: Homework 0**\n",
    "## **Randa Ampah**"
   ]
  },
  {
   "cell_type": "markdown",
   "id": "d988561a",
   "metadata": {},
   "source": [
    "## **Importing and Exploring Data**"
   ]
  },
  {
   "cell_type": "code",
   "execution_count": 32,
   "id": "1bc8b6bb",
   "metadata": {},
   "outputs": [],
   "source": [
    "import pandas as pd\n",
    "\n",
    "df = pd.read_csv('MSDS25_ Class Data (Responses) - Form Responses 1.csv')"
   ]
  },
  {
   "cell_type": "code",
   "execution_count": 33,
   "id": "52fe746d",
   "metadata": {},
   "outputs": [
    {
     "data": {
      "application/vnd.microsoft.datawrangler.viewer.v0+json": {
       "columns": [
        {
         "name": "index",
         "rawType": "int64",
         "type": "integer"
        },
        {
         "name": "Timestamp",
         "rawType": "object",
         "type": "string"
        },
        {
         "name": "phone_type",
         "rawType": "object",
         "type": "string"
        },
        {
         "name": "undergrad_major",
         "rawType": "object",
         "type": "string"
        },
        {
         "name": "num_cups",
         "rawType": "object",
         "type": "string"
        },
        {
         "name": "sleep_hrs",
         "rawType": "object",
         "type": "string"
        },
        {
         "name": "fav_sports",
         "rawType": "object",
         "type": "string"
        },
        {
         "name": "ds_skills",
         "rawType": "object",
         "type": "string"
        },
        {
         "name": "outdoor_hrs",
         "rawType": "object",
         "type": "string"
        },
        {
         "name": "ai_tools_use",
         "rawType": "object",
         "type": "unknown"
        },
        {
         "name": "ideal_temp",
         "rawType": "object",
         "type": "string"
        },
        {
         "name": "phone_hrs",
         "rawType": "object",
         "type": "string"
        },
        {
         "name": "music_while_studying",
         "rawType": "object",
         "type": "string"
        },
        {
         "name": "music_genre",
         "rawType": "object",
         "type": "string"
        },
        {
         "name": "num_states",
         "rawType": "int64",
         "type": "integer"
        },
        {
         "name": "fav_season",
         "rawType": "object",
         "type": "string"
        },
        {
         "name": "study_env",
         "rawType": "object",
         "type": "string"
        },
        {
         "name": "summer_desc",
         "rawType": "object",
         "type": "string"
        }
       ],
       "ref": "e7937168-9d0f-4951-8d35-f427d7a19e1e",
       "rows": [
        [
         "0",
         "8/27/2025 10:05:16",
         "Mac",
         "Applied & Computational Mathematics",
         "0",
         "7",
         "Football",
         "7",
         "2",
         "Often",
         "68",
         "3 hours",
         "Yes",
         "Pop",
         "39",
         "Fall",
         "Dorm",
         "Crazy"
        ],
        [
         "1",
         "8/27/2025 10:05:19",
         "Mac",
         "Economics",
         "1-2",
         "7",
         "Soccer",
         "6",
         "1",
         "Sometimes",
         "75",
         "5",
         "Yes",
         "EDM/House",
         "20",
         "Summer",
         "Library",
         "Unreal"
        ],
        [
         "2",
         "8/27/2025 10:05:19",
         "Mac",
         "Industrial engineering",
         "1 to 2",
         "6",
         "Basketball",
         "6",
         "3 to 4",
         "Always",
         "68",
         "2 to 3",
         "No",
         "Techno",
         "6",
         "Fall",
         "Home",
         "Amazing"
        ],
        [
         "3",
         "8/27/2025 10:05:24",
         "Mac",
         "Economics",
         "1",
         "7",
         "Football",
         "3",
         "2",
         null,
         "70",
         "4",
         "Yes",
         "Rock",
         "43",
         "Spring",
         "Outdoors",
         "Interesting"
        ],
        [
         "4",
         "8/27/2025 10:05:27",
         "Mac",
         "Biology",
         "5",
         "8",
         "College football",
         "5",
         "3",
         "Sometimes",
         "65",
         "5",
         "Yes",
         "Country/Folk",
         "15",
         "Fall",
         "Library",
         "Fantastic"
        ]
       ],
       "shape": {
        "columns": 17,
        "rows": 5
       }
      },
      "text/html": [
       "<div>\n",
       "<style scoped>\n",
       "    .dataframe tbody tr th:only-of-type {\n",
       "        vertical-align: middle;\n",
       "    }\n",
       "\n",
       "    .dataframe tbody tr th {\n",
       "        vertical-align: top;\n",
       "    }\n",
       "\n",
       "    .dataframe thead th {\n",
       "        text-align: right;\n",
       "    }\n",
       "</style>\n",
       "<table border=\"1\" class=\"dataframe\">\n",
       "  <thead>\n",
       "    <tr style=\"text-align: right;\">\n",
       "      <th></th>\n",
       "      <th>Timestamp</th>\n",
       "      <th>phone_type</th>\n",
       "      <th>undergrad_major</th>\n",
       "      <th>num_cups</th>\n",
       "      <th>sleep_hrs</th>\n",
       "      <th>fav_sports</th>\n",
       "      <th>ds_skills</th>\n",
       "      <th>outdoor_hrs</th>\n",
       "      <th>ai_tools_use</th>\n",
       "      <th>ideal_temp</th>\n",
       "      <th>phone_hrs</th>\n",
       "      <th>music_while_studying</th>\n",
       "      <th>music_genre</th>\n",
       "      <th>num_states</th>\n",
       "      <th>fav_season</th>\n",
       "      <th>study_env</th>\n",
       "      <th>summer_desc</th>\n",
       "    </tr>\n",
       "  </thead>\n",
       "  <tbody>\n",
       "    <tr>\n",
       "      <th>0</th>\n",
       "      <td>8/27/2025 10:05:16</td>\n",
       "      <td>Mac</td>\n",
       "      <td>Applied &amp; Computational Mathematics</td>\n",
       "      <td>0</td>\n",
       "      <td>7</td>\n",
       "      <td>Football</td>\n",
       "      <td>7</td>\n",
       "      <td>2</td>\n",
       "      <td>Often</td>\n",
       "      <td>68</td>\n",
       "      <td>3 hours</td>\n",
       "      <td>Yes</td>\n",
       "      <td>Pop</td>\n",
       "      <td>39</td>\n",
       "      <td>Fall</td>\n",
       "      <td>Dorm</td>\n",
       "      <td>Crazy</td>\n",
       "    </tr>\n",
       "    <tr>\n",
       "      <th>1</th>\n",
       "      <td>8/27/2025 10:05:19</td>\n",
       "      <td>Mac</td>\n",
       "      <td>Economics</td>\n",
       "      <td>1-2</td>\n",
       "      <td>7</td>\n",
       "      <td>Soccer</td>\n",
       "      <td>6</td>\n",
       "      <td>1</td>\n",
       "      <td>Sometimes</td>\n",
       "      <td>75</td>\n",
       "      <td>5</td>\n",
       "      <td>Yes</td>\n",
       "      <td>EDM/House</td>\n",
       "      <td>20</td>\n",
       "      <td>Summer</td>\n",
       "      <td>Library</td>\n",
       "      <td>Unreal</td>\n",
       "    </tr>\n",
       "    <tr>\n",
       "      <th>2</th>\n",
       "      <td>8/27/2025 10:05:19</td>\n",
       "      <td>Mac</td>\n",
       "      <td>Industrial engineering</td>\n",
       "      <td>1 to 2</td>\n",
       "      <td>6</td>\n",
       "      <td>Basketball</td>\n",
       "      <td>6</td>\n",
       "      <td>3 to 4</td>\n",
       "      <td>Always</td>\n",
       "      <td>68</td>\n",
       "      <td>2 to 3</td>\n",
       "      <td>No</td>\n",
       "      <td>Techno</td>\n",
       "      <td>6</td>\n",
       "      <td>Fall</td>\n",
       "      <td>Home</td>\n",
       "      <td>Amazing</td>\n",
       "    </tr>\n",
       "    <tr>\n",
       "      <th>3</th>\n",
       "      <td>8/27/2025 10:05:24</td>\n",
       "      <td>Mac</td>\n",
       "      <td>Economics</td>\n",
       "      <td>1</td>\n",
       "      <td>7</td>\n",
       "      <td>Football</td>\n",
       "      <td>3</td>\n",
       "      <td>2</td>\n",
       "      <td>NaN</td>\n",
       "      <td>70</td>\n",
       "      <td>4</td>\n",
       "      <td>Yes</td>\n",
       "      <td>Rock</td>\n",
       "      <td>43</td>\n",
       "      <td>Spring</td>\n",
       "      <td>Outdoors</td>\n",
       "      <td>Interesting</td>\n",
       "    </tr>\n",
       "    <tr>\n",
       "      <th>4</th>\n",
       "      <td>8/27/2025 10:05:27</td>\n",
       "      <td>Mac</td>\n",
       "      <td>Biology</td>\n",
       "      <td>5</td>\n",
       "      <td>8</td>\n",
       "      <td>College football</td>\n",
       "      <td>5</td>\n",
       "      <td>3</td>\n",
       "      <td>Sometimes</td>\n",
       "      <td>65</td>\n",
       "      <td>5</td>\n",
       "      <td>Yes</td>\n",
       "      <td>Country/Folk</td>\n",
       "      <td>15</td>\n",
       "      <td>Fall</td>\n",
       "      <td>Library</td>\n",
       "      <td>Fantastic</td>\n",
       "    </tr>\n",
       "  </tbody>\n",
       "</table>\n",
       "</div>"
      ],
      "text/plain": [
       "            Timestamp phone_type                      undergrad_major  \\\n",
       "0  8/27/2025 10:05:16        Mac  Applied & Computational Mathematics   \n",
       "1  8/27/2025 10:05:19        Mac                            Economics   \n",
       "2  8/27/2025 10:05:19        Mac               Industrial engineering   \n",
       "3  8/27/2025 10:05:24        Mac                            Economics   \n",
       "4  8/27/2025 10:05:27        Mac                              Biology   \n",
       "\n",
       "  num_cups sleep_hrs        fav_sports ds_skills outdoor_hrs ai_tools_use  \\\n",
       "0        0         7          Football         7           2        Often   \n",
       "1      1-2         7            Soccer         6           1    Sometimes   \n",
       "2   1 to 2         6        Basketball         6      3 to 4       Always   \n",
       "3        1         7          Football         3           2          NaN   \n",
       "4        5         8  College football         5           3    Sometimes   \n",
       "\n",
       "  ideal_temp phone_hrs music_while_studying   music_genre  num_states  \\\n",
       "0         68   3 hours                  Yes           Pop          39   \n",
       "1         75         5                  Yes     EDM/House          20   \n",
       "2         68    2 to 3                   No        Techno           6   \n",
       "3         70         4                  Yes          Rock          43   \n",
       "4         65         5                  Yes  Country/Folk          15   \n",
       "\n",
       "  fav_season study_env  summer_desc  \n",
       "0       Fall      Dorm        Crazy  \n",
       "1     Summer   Library       Unreal  \n",
       "2       Fall      Home      Amazing  \n",
       "3     Spring  Outdoors  Interesting  \n",
       "4       Fall   Library    Fantastic  "
      ]
     },
     "execution_count": 33,
     "metadata": {},
     "output_type": "execute_result"
    }
   ],
   "source": [
    "df.head()"
   ]
  },
  {
   "cell_type": "code",
   "execution_count": 34,
   "id": "3ba86400",
   "metadata": {},
   "outputs": [
    {
     "data": {
      "text/plain": [
       "Index(['Timestamp', 'phone_type', 'undergrad_major', 'num_cups', 'sleep_hrs',\n",
       "       'fav_sports', 'ds_skills', 'outdoor_hrs', 'ai_tools_use', 'ideal_temp',\n",
       "       'phone_hrs', 'music_while_studying', 'music_genre', 'num_states',\n",
       "       'fav_season', 'study_env', 'summer_desc'],\n",
       "      dtype='object')"
      ]
     },
     "execution_count": 34,
     "metadata": {},
     "output_type": "execute_result"
    }
   ],
   "source": [
    "df.columns"
   ]
  },
  {
   "cell_type": "code",
   "execution_count": 35,
   "id": "79706a75",
   "metadata": {},
   "outputs": [
    {
     "data": {
      "application/vnd.microsoft.datawrangler.viewer.v0+json": {
       "columns": [
        {
         "name": "index",
         "rawType": "object",
         "type": "string"
        },
        {
         "name": "0",
         "rawType": "object",
         "type": "unknown"
        }
       ],
       "ref": "e2555162-ea74-4291-99bb-97280a76a5d4",
       "rows": [
        [
         "Timestamp",
         "object"
        ],
        [
         "phone_type",
         "object"
        ],
        [
         "undergrad_major",
         "object"
        ],
        [
         "num_cups",
         "object"
        ],
        [
         "sleep_hrs",
         "object"
        ],
        [
         "fav_sports",
         "object"
        ],
        [
         "ds_skills",
         "object"
        ],
        [
         "outdoor_hrs",
         "object"
        ],
        [
         "ai_tools_use",
         "object"
        ],
        [
         "ideal_temp",
         "object"
        ],
        [
         "phone_hrs",
         "object"
        ],
        [
         "music_while_studying",
         "object"
        ],
        [
         "music_genre",
         "object"
        ],
        [
         "num_states",
         "int64"
        ],
        [
         "fav_season",
         "object"
        ],
        [
         "study_env",
         "object"
        ],
        [
         "summer_desc",
         "object"
        ]
       ],
       "shape": {
        "columns": 1,
        "rows": 17
       }
      },
      "text/plain": [
       "Timestamp               object\n",
       "phone_type              object\n",
       "undergrad_major         object\n",
       "num_cups                object\n",
       "sleep_hrs               object\n",
       "fav_sports              object\n",
       "ds_skills               object\n",
       "outdoor_hrs             object\n",
       "ai_tools_use            object\n",
       "ideal_temp              object\n",
       "phone_hrs               object\n",
       "music_while_studying    object\n",
       "music_genre             object\n",
       "num_states               int64\n",
       "fav_season              object\n",
       "study_env               object\n",
       "summer_desc             object\n",
       "dtype: object"
      ]
     },
     "execution_count": 35,
     "metadata": {},
     "output_type": "execute_result"
    }
   ],
   "source": [
    "df.dtypes"
   ]
  },
  {
   "cell_type": "markdown",
   "id": "1ee94196",
   "metadata": {},
   "source": [
    "## **Data Cleaning**"
   ]
  },
  {
   "cell_type": "markdown",
   "id": "5b82fe82",
   "metadata": {},
   "source": [
    "### Phone Type"
   ]
  },
  {
   "cell_type": "code",
   "execution_count": 36,
   "id": "6149414e",
   "metadata": {},
   "outputs": [
    {
     "data": {
      "text/plain": [
       "array(['iPhone', 'Android'], dtype=object)"
      ]
     },
     "execution_count": 36,
     "metadata": {},
     "output_type": "execute_result"
    }
   ],
   "source": [
    "## Phone Type\n",
    "\n",
    "# Change \"Mac\" phone type to \"iPhone\" (correct name)\n",
    "df['phone_type'] = df['phone_type'].str.replace('Mac','iPhone')\n",
    "df['phone_type'].unique()"
   ]
  },
  {
   "cell_type": "code",
   "execution_count": 37,
   "id": "5d2aaff6",
   "metadata": {},
   "outputs": [
    {
     "data": {
      "application/vnd.microsoft.datawrangler.viewer.v0+json": {
       "columns": [
        {
         "name": "index",
         "rawType": "int64",
         "type": "integer"
        },
        {
         "name": "Timestamp",
         "rawType": "object",
         "type": "string"
        },
        {
         "name": "phone_type",
         "rawType": "object",
         "type": "string"
        },
        {
         "name": "undergrad_major",
         "rawType": "object",
         "type": "string"
        },
        {
         "name": "num_cups",
         "rawType": "object",
         "type": "string"
        },
        {
         "name": "sleep_hrs",
         "rawType": "object",
         "type": "string"
        },
        {
         "name": "fav_sports",
         "rawType": "object",
         "type": "string"
        },
        {
         "name": "ds_skills",
         "rawType": "object",
         "type": "string"
        },
        {
         "name": "outdoor_hrs",
         "rawType": "object",
         "type": "string"
        },
        {
         "name": "ai_tools_use",
         "rawType": "object",
         "type": "unknown"
        },
        {
         "name": "ideal_temp",
         "rawType": "object",
         "type": "string"
        },
        {
         "name": "phone_hrs",
         "rawType": "object",
         "type": "string"
        },
        {
         "name": "music_while_studying",
         "rawType": "object",
         "type": "string"
        },
        {
         "name": "music_genre",
         "rawType": "object",
         "type": "string"
        },
        {
         "name": "num_states",
         "rawType": "int64",
         "type": "integer"
        },
        {
         "name": "fav_season",
         "rawType": "object",
         "type": "string"
        },
        {
         "name": "study_env",
         "rawType": "object",
         "type": "string"
        },
        {
         "name": "summer_desc",
         "rawType": "object",
         "type": "string"
        }
       ],
       "ref": "d72f4a1f-d900-49fa-8707-085ca39325aa",
       "rows": [
        [
         "0",
         "8/27/2025 10:05:16",
         "iPhone",
         "Applied & Computational Mathematics",
         "0",
         "7",
         "Football",
         "7",
         "2",
         "Often",
         "68",
         "3 hours",
         "Yes",
         "Pop",
         "39",
         "Fall",
         "Dorm",
         "Crazy"
        ],
        [
         "1",
         "8/27/2025 10:05:19",
         "iPhone",
         "Economics",
         "1-2",
         "7",
         "Soccer",
         "6",
         "1",
         "Sometimes",
         "75",
         "5",
         "Yes",
         "EDM/House",
         "20",
         "Summer",
         "Library",
         "Unreal"
        ],
        [
         "2",
         "8/27/2025 10:05:19",
         "iPhone",
         "Industrial engineering",
         "1 to 2",
         "6",
         "Basketball",
         "6",
         "3 to 4",
         "Always",
         "68",
         "2 to 3",
         "No",
         "Techno",
         "6",
         "Fall",
         "Home",
         "Amazing"
        ],
        [
         "3",
         "8/27/2025 10:05:24",
         "iPhone",
         "Economics",
         "1",
         "7",
         "Football",
         "3",
         "2",
         null,
         "70",
         "4",
         "Yes",
         "Rock",
         "43",
         "Spring",
         "Outdoors",
         "Interesting"
        ],
        [
         "4",
         "8/27/2025 10:05:27",
         "iPhone",
         "Biology",
         "5",
         "8",
         "College football",
         "5",
         "3",
         "Sometimes",
         "65",
         "5",
         "Yes",
         "Country/Folk",
         "15",
         "Fall",
         "Library",
         "Fantastic"
        ]
       ],
       "shape": {
        "columns": 17,
        "rows": 5
       }
      },
      "text/html": [
       "<div>\n",
       "<style scoped>\n",
       "    .dataframe tbody tr th:only-of-type {\n",
       "        vertical-align: middle;\n",
       "    }\n",
       "\n",
       "    .dataframe tbody tr th {\n",
       "        vertical-align: top;\n",
       "    }\n",
       "\n",
       "    .dataframe thead th {\n",
       "        text-align: right;\n",
       "    }\n",
       "</style>\n",
       "<table border=\"1\" class=\"dataframe\">\n",
       "  <thead>\n",
       "    <tr style=\"text-align: right;\">\n",
       "      <th></th>\n",
       "      <th>Timestamp</th>\n",
       "      <th>phone_type</th>\n",
       "      <th>undergrad_major</th>\n",
       "      <th>num_cups</th>\n",
       "      <th>sleep_hrs</th>\n",
       "      <th>fav_sports</th>\n",
       "      <th>ds_skills</th>\n",
       "      <th>outdoor_hrs</th>\n",
       "      <th>ai_tools_use</th>\n",
       "      <th>ideal_temp</th>\n",
       "      <th>phone_hrs</th>\n",
       "      <th>music_while_studying</th>\n",
       "      <th>music_genre</th>\n",
       "      <th>num_states</th>\n",
       "      <th>fav_season</th>\n",
       "      <th>study_env</th>\n",
       "      <th>summer_desc</th>\n",
       "    </tr>\n",
       "  </thead>\n",
       "  <tbody>\n",
       "    <tr>\n",
       "      <th>0</th>\n",
       "      <td>8/27/2025 10:05:16</td>\n",
       "      <td>iPhone</td>\n",
       "      <td>Applied &amp; Computational Mathematics</td>\n",
       "      <td>0</td>\n",
       "      <td>7</td>\n",
       "      <td>Football</td>\n",
       "      <td>7</td>\n",
       "      <td>2</td>\n",
       "      <td>Often</td>\n",
       "      <td>68</td>\n",
       "      <td>3 hours</td>\n",
       "      <td>Yes</td>\n",
       "      <td>Pop</td>\n",
       "      <td>39</td>\n",
       "      <td>Fall</td>\n",
       "      <td>Dorm</td>\n",
       "      <td>Crazy</td>\n",
       "    </tr>\n",
       "    <tr>\n",
       "      <th>1</th>\n",
       "      <td>8/27/2025 10:05:19</td>\n",
       "      <td>iPhone</td>\n",
       "      <td>Economics</td>\n",
       "      <td>1-2</td>\n",
       "      <td>7</td>\n",
       "      <td>Soccer</td>\n",
       "      <td>6</td>\n",
       "      <td>1</td>\n",
       "      <td>Sometimes</td>\n",
       "      <td>75</td>\n",
       "      <td>5</td>\n",
       "      <td>Yes</td>\n",
       "      <td>EDM/House</td>\n",
       "      <td>20</td>\n",
       "      <td>Summer</td>\n",
       "      <td>Library</td>\n",
       "      <td>Unreal</td>\n",
       "    </tr>\n",
       "    <tr>\n",
       "      <th>2</th>\n",
       "      <td>8/27/2025 10:05:19</td>\n",
       "      <td>iPhone</td>\n",
       "      <td>Industrial engineering</td>\n",
       "      <td>1 to 2</td>\n",
       "      <td>6</td>\n",
       "      <td>Basketball</td>\n",
       "      <td>6</td>\n",
       "      <td>3 to 4</td>\n",
       "      <td>Always</td>\n",
       "      <td>68</td>\n",
       "      <td>2 to 3</td>\n",
       "      <td>No</td>\n",
       "      <td>Techno</td>\n",
       "      <td>6</td>\n",
       "      <td>Fall</td>\n",
       "      <td>Home</td>\n",
       "      <td>Amazing</td>\n",
       "    </tr>\n",
       "    <tr>\n",
       "      <th>3</th>\n",
       "      <td>8/27/2025 10:05:24</td>\n",
       "      <td>iPhone</td>\n",
       "      <td>Economics</td>\n",
       "      <td>1</td>\n",
       "      <td>7</td>\n",
       "      <td>Football</td>\n",
       "      <td>3</td>\n",
       "      <td>2</td>\n",
       "      <td>NaN</td>\n",
       "      <td>70</td>\n",
       "      <td>4</td>\n",
       "      <td>Yes</td>\n",
       "      <td>Rock</td>\n",
       "      <td>43</td>\n",
       "      <td>Spring</td>\n",
       "      <td>Outdoors</td>\n",
       "      <td>Interesting</td>\n",
       "    </tr>\n",
       "    <tr>\n",
       "      <th>4</th>\n",
       "      <td>8/27/2025 10:05:27</td>\n",
       "      <td>iPhone</td>\n",
       "      <td>Biology</td>\n",
       "      <td>5</td>\n",
       "      <td>8</td>\n",
       "      <td>College football</td>\n",
       "      <td>5</td>\n",
       "      <td>3</td>\n",
       "      <td>Sometimes</td>\n",
       "      <td>65</td>\n",
       "      <td>5</td>\n",
       "      <td>Yes</td>\n",
       "      <td>Country/Folk</td>\n",
       "      <td>15</td>\n",
       "      <td>Fall</td>\n",
       "      <td>Library</td>\n",
       "      <td>Fantastic</td>\n",
       "    </tr>\n",
       "  </tbody>\n",
       "</table>\n",
       "</div>"
      ],
      "text/plain": [
       "            Timestamp phone_type                      undergrad_major  \\\n",
       "0  8/27/2025 10:05:16     iPhone  Applied & Computational Mathematics   \n",
       "1  8/27/2025 10:05:19     iPhone                            Economics   \n",
       "2  8/27/2025 10:05:19     iPhone               Industrial engineering   \n",
       "3  8/27/2025 10:05:24     iPhone                            Economics   \n",
       "4  8/27/2025 10:05:27     iPhone                              Biology   \n",
       "\n",
       "  num_cups sleep_hrs        fav_sports ds_skills outdoor_hrs ai_tools_use  \\\n",
       "0        0         7          Football         7           2        Often   \n",
       "1      1-2         7            Soccer         6           1    Sometimes   \n",
       "2   1 to 2         6        Basketball         6      3 to 4       Always   \n",
       "3        1         7          Football         3           2          NaN   \n",
       "4        5         8  College football         5           3    Sometimes   \n",
       "\n",
       "  ideal_temp phone_hrs music_while_studying   music_genre  num_states  \\\n",
       "0         68   3 hours                  Yes           Pop          39   \n",
       "1         75         5                  Yes     EDM/House          20   \n",
       "2         68    2 to 3                   No        Techno           6   \n",
       "3         70         4                  Yes          Rock          43   \n",
       "4         65         5                  Yes  Country/Folk          15   \n",
       "\n",
       "  fav_season study_env  summer_desc  \n",
       "0       Fall      Dorm        Crazy  \n",
       "1     Summer   Library       Unreal  \n",
       "2       Fall      Home      Amazing  \n",
       "3     Spring  Outdoors  Interesting  \n",
       "4       Fall   Library    Fantastic  "
      ]
     },
     "execution_count": 37,
     "metadata": {},
     "output_type": "execute_result"
    }
   ],
   "source": [
    "df.head()"
   ]
  },
  {
   "cell_type": "markdown",
   "id": "79a129e3",
   "metadata": {},
   "source": [
    "### Undergrad Major"
   ]
  },
  {
   "cell_type": "code",
   "execution_count": 38,
   "id": "e7f7f1e2",
   "metadata": {},
   "outputs": [
    {
     "name": "stderr",
     "output_type": "stream",
     "text": [
      "/var/folders/1z/t_vl0dx95552hzn7xv8z08sm0000gn/T/ipykernel_45411/2964303367.py:9: SettingWithCopyWarning: \n",
      "A value is trying to be set on a copy of a slice from a DataFrame\n",
      "\n",
      "See the caveats in the documentation: https://pandas.pydata.org/pandas-docs/stable/user_guide/indexing.html#returning-a-view-versus-a-copy\n",
      "  df['undergrad_major'][df['undergrad_major'].str.contains('engineering')] = 'engineering'\n",
      "/var/folders/1z/t_vl0dx95552hzn7xv8z08sm0000gn/T/ipykernel_45411/2964303367.py:10: SettingWithCopyWarning: \n",
      "A value is trying to be set on a copy of a slice from a DataFrame\n",
      "\n",
      "See the caveats in the documentation: https://pandas.pydata.org/pandas-docs/stable/user_guide/indexing.html#returning-a-view-versus-a-copy\n",
      "  df['undergrad_major'][df['undergrad_major'].str.contains('computer science')] = 'computer science'\n",
      "/var/folders/1z/t_vl0dx95552hzn7xv8z08sm0000gn/T/ipykernel_45411/2964303367.py:11: SettingWithCopyWarning: \n",
      "A value is trying to be set on a copy of a slice from a DataFrame\n",
      "\n",
      "See the caveats in the documentation: https://pandas.pydata.org/pandas-docs/stable/user_guide/indexing.html#returning-a-view-versus-a-copy\n",
      "  df['undergrad_major'][df['undergrad_major'].str.contains('data science')] = 'data science'\n",
      "/var/folders/1z/t_vl0dx95552hzn7xv8z08sm0000gn/T/ipykernel_45411/2964303367.py:12: SettingWithCopyWarning: \n",
      "A value is trying to be set on a copy of a slice from a DataFrame\n",
      "\n",
      "See the caveats in the documentation: https://pandas.pydata.org/pandas-docs/stable/user_guide/indexing.html#returning-a-view-versus-a-copy\n",
      "  df['undergrad_major'][df['undergrad_major'].str.contains('biology')] = 'biology'\n",
      "/var/folders/1z/t_vl0dx95552hzn7xv8z08sm0000gn/T/ipykernel_45411/2964303367.py:13: SettingWithCopyWarning: \n",
      "A value is trying to be set on a copy of a slice from a DataFrame\n",
      "\n",
      "See the caveats in the documentation: https://pandas.pydata.org/pandas-docs/stable/user_guide/indexing.html#returning-a-view-versus-a-copy\n",
      "  df['undergrad_major'][df['undergrad_major'].str.contains('math')] = 'math'\n",
      "/var/folders/1z/t_vl0dx95552hzn7xv8z08sm0000gn/T/ipykernel_45411/2964303367.py:14: SettingWithCopyWarning: \n",
      "A value is trying to be set on a copy of a slice from a DataFrame\n",
      "\n",
      "See the caveats in the documentation: https://pandas.pydata.org/pandas-docs/stable/user_guide/indexing.html#returning-a-view-versus-a-copy\n",
      "  df['undergrad_major'][df['undergrad_major'].str.contains('business')] = 'business'\n",
      "/var/folders/1z/t_vl0dx95552hzn7xv8z08sm0000gn/T/ipykernel_45411/2964303367.py:15: SettingWithCopyWarning: \n",
      "A value is trying to be set on a copy of a slice from a DataFrame\n",
      "\n",
      "See the caveats in the documentation: https://pandas.pydata.org/pandas-docs/stable/user_guide/indexing.html#returning-a-view-versus-a-copy\n",
      "  df['undergrad_major'][df['undergrad_major'].str.contains('physics')] = 'physics'\n",
      "/var/folders/1z/t_vl0dx95552hzn7xv8z08sm0000gn/T/ipykernel_45411/2964303367.py:16: SettingWithCopyWarning: \n",
      "A value is trying to be set on a copy of a slice from a DataFrame\n",
      "\n",
      "See the caveats in the documentation: https://pandas.pydata.org/pandas-docs/stable/user_guide/indexing.html#returning-a-view-versus-a-copy\n",
      "  df['undergrad_major'][df['undergrad_major'].str.contains('applied statistics')] = 'statistics'\n"
     ]
    },
    {
     "data": {
      "application/vnd.microsoft.datawrangler.viewer.v0+json": {
       "columns": [
        {
         "name": "undergrad_major",
         "rawType": "object",
         "type": "string"
        },
        {
         "name": "count",
         "rawType": "int64",
         "type": "integer"
        }
       ],
       "ref": "3e330e73-959e-48f7-8640-affd0c754f2c",
       "rows": [
        [
         "statistics",
         "19"
        ],
        [
         "engineering",
         "15"
        ],
        [
         "computer science",
         "13"
        ],
        [
         "economics",
         "6"
        ],
        [
         "data science",
         "5"
        ],
        [
         "commerce",
         "4"
        ],
        [
         "math",
         "3"
        ],
        [
         "biology",
         "3"
        ],
        [
         "business",
         "2"
        ],
        [
         "physics",
         "2"
        ],
        [
         "psychology",
         "2"
        ],
        [
         "public policy",
         "2"
        ],
        [
         "accounting",
         "2"
        ],
        [
         "sport analytics",
         "1"
        ],
        [
         "digital narrative and interactive design",
         "1"
        ],
        [
         "anthropology",
         "1"
        ],
        [
         "fine arts",
         "1"
        ],
        [
         "game design & development",
         "1"
        ],
        [
         "special education",
         "1"
        ],
        [
         "environmental science and environmental thought & practice",
         "1"
        ],
        [
         "history/ american studies",
         "1"
        ],
        [
         "information science",
         "1"
        ],
        [
         "cognitive science",
         "1"
        ],
        [
         "international affairs",
         "1"
        ],
        [
         "foreign affairs",
         "1"
        ]
       ],
       "shape": {
        "columns": 1,
        "rows": 25
       }
      },
      "text/plain": [
       "undergrad_major\n",
       "statistics                                                    19\n",
       "engineering                                                   15\n",
       "computer science                                              13\n",
       "economics                                                      6\n",
       "data science                                                   5\n",
       "commerce                                                       4\n",
       "math                                                           3\n",
       "biology                                                        3\n",
       "business                                                       2\n",
       "physics                                                        2\n",
       "psychology                                                     2\n",
       "public policy                                                  2\n",
       "accounting                                                     2\n",
       "sport analytics                                                1\n",
       "digital narrative and interactive design                       1\n",
       "anthropology                                                   1\n",
       "fine arts                                                      1\n",
       "game design & development                                      1\n",
       "special education                                              1\n",
       "environmental science and environmental thought & practice     1\n",
       "history/ american studies                                      1\n",
       "information science                                            1\n",
       "cognitive science                                              1\n",
       "international affairs                                          1\n",
       "foreign affairs                                                1\n",
       "Name: count, dtype: int64"
      ]
     },
     "execution_count": 38,
     "metadata": {},
     "output_type": "execute_result"
    }
   ],
   "source": [
    "\n",
    "df['undergrad_major'].unique()\n",
    "\n",
    "# making values uniform\n",
    "df['undergrad_major'] = df['undergrad_major'].str.lower()\n",
    "df['undergrad_major'] = df['undergrad_major'].str.strip()\n",
    "\n",
    "# Condensing specific concentrations of majors to general major area\n",
    "\n",
    "df['undergrad_major'][df['undergrad_major'].str.contains('engineering')] = 'engineering'\n",
    "df['undergrad_major'][df['undergrad_major'].str.contains('computer science')] = 'computer science'\n",
    "df['undergrad_major'][df['undergrad_major'].str.contains('data science')] = 'data science'\n",
    "df['undergrad_major'][df['undergrad_major'].str.contains('biology')] = 'biology'\n",
    "df['undergrad_major'][df['undergrad_major'].str.contains('math')] = 'math'\n",
    "df['undergrad_major'][df['undergrad_major'].str.contains('business')] = 'business'\n",
    "df['undergrad_major'][df['undergrad_major'].str.contains('physics')] = 'physics'\n",
    "df['undergrad_major'][df['undergrad_major'].str.contains('applied statistics')] = 'statistics'\n",
    "\n",
    "# fixing unique values\n",
    "df['undergrad_major'] = df['undergrad_major'].replace('ds','data science')\n",
    "\n",
    "df['undergrad_major'].value_counts()\n"
   ]
  },
  {
   "cell_type": "markdown",
   "id": "d8702219",
   "metadata": {},
   "source": [
    "### Number of Coffee Cups"
   ]
  },
  {
   "cell_type": "code",
   "execution_count": 10,
   "id": "987d339f",
   "metadata": {},
   "outputs": [
    {
     "data": {
      "text/plain": [
       "array(['0', '1-2', '1 to 2', '1', '5', '2', 'One', '4', '1-2 ',\n",
       "       'I only drink coffee if it’s really sweet. I am usually a can of soda girl',\n",
       "       '3', '0.5',\n",
       "       'y = mx+b where b is 1 coffee and m is correlated to sleep the night before. On average, I have about 2.5 total (y). ',\n",
       "       '1.5', 'usually 0 but like to treat myself to 1 ', '0-1',\n",
       "       '2 (coffee)', '6', '100mg of caffeine',\n",
       "       '4 cups of tea in the morning per day'], dtype=object)"
      ]
     },
     "execution_count": 10,
     "metadata": {},
     "output_type": "execute_result"
    }
   ],
   "source": [
    "num_cups = df['num_cups']\n",
    "num_cups.unique()"
   ]
  },
  {
   "cell_type": "code",
   "execution_count": 11,
   "id": "f351fc55",
   "metadata": {},
   "outputs": [
    {
     "name": "stderr",
     "output_type": "stream",
     "text": [
      "/var/folders/1z/t_vl0dx95552hzn7xv8z08sm0000gn/T/ipykernel_45411/1341054352.py:6: FutureWarning: Series.replace without 'value' and with non-dict-like 'to_replace' is deprecated and will raise in a future version. Explicitly specify the new values instead.\n",
      "  num_cups = num_cups.replace(['0-1','One','usually 0 but like to treat myself to 1 ','0.5','100mg of caffeine'])\n"
     ]
    }
   ],
   "source": [
    "\n",
    "num_cups = num_cups.replace(['I only drink coffee if it’s really sweet. I am usually a can of soda girl',\n",
    "                             '4 cups of tea in the morning per day'], 0, regex=False )\n",
    "\n",
    "# rounding all in between values up\n",
    "num_cups = num_cups.replace('y = mx+b where b is 1 coffee and m is correlated to sleep the night before. On average, I have about 2.5 total (y). ', 3)\n",
    "num_cups = num_cups.replace(['0-1','One','usually 0 but like to treat myself to 1 ','0.5','100mg of caffeine'])\n",
    "num_cups = num_cups.replace(['1-2','1-2 ','1 to 2','1.5','2 (coffee)'], 2)\n",
    "\n",
    "# change data type \n",
    "df['num_cups'] = pd.to_numeric(num_cups)\n"
   ]
  },
  {
   "cell_type": "code",
   "execution_count": 12,
   "id": "8c18339e",
   "metadata": {},
   "outputs": [
    {
     "data": {
      "application/vnd.microsoft.datawrangler.viewer.v0+json": {
       "columns": [
        {
         "name": "num_cups",
         "rawType": "int64",
         "type": "integer"
        },
        {
         "name": "count",
         "rawType": "int64",
         "type": "integer"
        }
       ],
       "ref": "924db629-0dc7-4146-a41b-591dcec5f3a2",
       "rows": [
        [
         "0",
         "35"
        ],
        [
         "1",
         "25"
        ],
        [
         "2",
         "21"
        ],
        [
         "3",
         "5"
        ],
        [
         "6",
         "2"
        ],
        [
         "5",
         "1"
        ],
        [
         "4",
         "1"
        ]
       ],
       "shape": {
        "columns": 1,
        "rows": 7
       }
      },
      "text/plain": [
       "num_cups\n",
       "0    35\n",
       "1    25\n",
       "2    21\n",
       "3     5\n",
       "6     2\n",
       "5     1\n",
       "4     1\n",
       "Name: count, dtype: int64"
      ]
     },
     "execution_count": 12,
     "metadata": {},
     "output_type": "execute_result"
    }
   ],
   "source": [
    "df['num_cups'].unique()\n",
    "df['num_cups'].value_counts()"
   ]
  },
  {
   "cell_type": "markdown",
   "id": "368b0701",
   "metadata": {},
   "source": [
    "### Sleep Hours"
   ]
  },
  {
   "cell_type": "code",
   "execution_count": 13,
   "id": "9c71aa3e",
   "metadata": {},
   "outputs": [
    {
     "data": {
      "application/vnd.microsoft.datawrangler.viewer.v0+json": {
       "columns": [
        {
         "name": "sleep_hrs",
         "rawType": "object",
         "type": "string"
        },
        {
         "name": "count",
         "rawType": "int64",
         "type": "integer"
        }
       ],
       "ref": "d45709a3-84c1-43f9-9a4a-a6362665fbd0",
       "rows": [
        [
         "7",
         "31"
        ],
        [
         "8",
         "23"
        ],
        [
         "6",
         "7"
        ],
        [
         "9",
         "6"
        ],
        [
         "7-8",
         "3"
        ],
        [
         "4",
         "2"
        ],
        [
         "8-10",
         "2"
        ],
        [
         "6-7",
         "2"
        ],
        [
         "8.5",
         "2"
        ],
        [
         "6-7:30",
         "1"
        ],
        [
         "7.5",
         "1"
        ],
        [
         "5.5",
         "1"
        ],
        [
         "7-9",
         "1"
        ],
        [
         "Not enough 🥺 maybe 4-6",
         "1"
        ],
        [
         "8h",
         "1"
        ],
        [
         "Not enough. ",
         "1"
        ],
        [
         "6,7",
         "1"
        ],
        [
         "6-8",
         "1"
        ],
        [
         "10",
         "1"
        ],
        [
         "6.5",
         "1"
        ],
        [
         "7 hours",
         "1"
        ]
       ],
       "shape": {
        "columns": 1,
        "rows": 21
       }
      },
      "text/plain": [
       "sleep_hrs\n",
       "7                         31\n",
       "8                         23\n",
       "6                          7\n",
       "9                          6\n",
       "7-8                        3\n",
       "4                          2\n",
       "8-10                       2\n",
       "6-7                        2\n",
       "8.5                        2\n",
       "6-7:30                     1\n",
       "7.5                        1\n",
       "5.5                        1\n",
       "7-9                        1\n",
       "Not enough 🥺 maybe 4-6     1\n",
       "8h                         1\n",
       "Not enough.                1\n",
       "6,7                        1\n",
       "6-8                        1\n",
       "10                         1\n",
       "6.5                        1\n",
       "7 hours                    1\n",
       "Name: count, dtype: int64"
      ]
     },
     "execution_count": 13,
     "metadata": {},
     "output_type": "execute_result"
    }
   ],
   "source": [
    "df['sleep_hrs'].value_counts()"
   ]
  },
  {
   "cell_type": "code",
   "execution_count": 14,
   "id": "b1b4c24b",
   "metadata": {},
   "outputs": [
    {
     "data": {
      "text/plain": [
       "array(['7', '6', '8', '4', '8-10', '6.5', '6-7', '7-8', '10', '6-8', '8h',\n",
       "       '6,7', '9', '8.5', 'Not enough.', '6-7:30',\n",
       "       'Not enough 🥺 maybe 4-6', '7-9', '5.5', '7.5', '7 hours'],\n",
       "      dtype=object)"
      ]
     },
     "execution_count": 14,
     "metadata": {},
     "output_type": "execute_result"
    }
   ],
   "source": [
    "sleep = df['sleep_hrs'].str.strip()\n",
    "sleep.unique()"
   ]
  },
  {
   "cell_type": "code",
   "execution_count": 15,
   "id": "bf2e73fa",
   "metadata": {},
   "outputs": [],
   "source": [
    "sleep = df['sleep_hrs'].str.strip()\n",
    "\n",
    "sleep = sleep.replace('Not enough.', None)\n",
    "sleep = sleep.replace('Not enough 🥺 maybe 4-6', 6)\n",
    "sleep = sleep.replace(['6-7','6,7','7 hours'], 7)\n",
    "sleep = sleep.replace('6-7:30', 7.5)\n",
    "sleep = sleep.replace(['7-8','6-8','8h'], 8)\n",
    "sleep = sleep.replace('7-9', 9)\n",
    "sleep = sleep.replace( '8-10', 10)\n"
   ]
  },
  {
   "cell_type": "code",
   "execution_count": 16,
   "id": "b4db5b85",
   "metadata": {},
   "outputs": [
    {
     "data": {
      "text/plain": [
       "array(['7', '6', '8', '4', 10, '6.5', 7, 8, '10', '9', '8.5', None, 7.5,\n",
       "       6, 9, '5.5', '7.5'], dtype=object)"
      ]
     },
     "execution_count": 16,
     "metadata": {},
     "output_type": "execute_result"
    }
   ],
   "source": [
    "sleep.unique()"
   ]
  },
  {
   "cell_type": "code",
   "execution_count": 17,
   "id": "c719ddae",
   "metadata": {},
   "outputs": [],
   "source": [
    "sleep = pd.to_numeric(sleep)\n",
    "sleep.value_counts(dropna=False)\n",
    "\n",
    "df['sleep_hrs'] = sleep"
   ]
  },
  {
   "cell_type": "markdown",
   "id": "7e39d94d",
   "metadata": {},
   "source": [
    "### Favorite Sports"
   ]
  },
  {
   "cell_type": "code",
   "execution_count": 18,
   "id": "31be1ba4",
   "metadata": {},
   "outputs": [
    {
     "data": {
      "application/vnd.microsoft.datawrangler.viewer.v0+json": {
       "columns": [
        {
         "name": "fav_sports",
         "rawType": "object",
         "type": "string"
        },
        {
         "name": "count",
         "rawType": "int64",
         "type": "integer"
        }
       ],
       "ref": "140f630d-1e31-4aa8-9f40-fbc4f86c213a",
       "rows": [
        [
         "basketball",
         "21"
        ],
        [
         "football",
         "14"
        ],
        [
         "soccer",
         "13"
        ],
        [
         "baseball",
         "5"
        ],
        [
         "tennis",
         "3"
        ],
        [
         "hockey",
         "2"
        ],
        [
         "college basketball",
         "2"
        ],
        [
         "track n field",
         "1"
        ],
        [
         "basketball or beach volleyball",
         "1"
        ],
        [
         "i rarely watch tv but enjoy video games 😁",
         "1"
        ],
        [
         "nfl football",
         "1"
        ],
        [
         "soccer or f1",
         "1"
        ],
        [
         "volleyball",
         "1"
        ],
        [
         "golf",
         "1"
        ],
        [
         "cornhole",
         "1"
        ],
        [
         "olympic women’s gymnastics",
         "1"
        ],
        [
         "supercross",
         "1"
        ],
        [
         "swimming and football (close)",
         "1"
        ],
        [
         "hurling",
         "1"
        ],
        [
         "american football",
         "1"
        ],
        [
         "soccer?",
         "1"
        ],
        [
         "none i watch reality tv",
         "1"
        ],
        [
         "golf or soccer",
         "1"
        ],
        [
         "i don’t usually watch sports",
         "1"
        ],
        [
         "hockey (if i ever watch sports)",
         "1"
        ],
        [
         "track & field",
         "1"
        ],
        [
         "snooker",
         "1"
        ],
        [
         "f1",
         "1"
        ],
        [
         "formula 1",
         "1"
        ],
        [
         "college football",
         "1"
        ],
        [
         "men’s volleyball",
         "1"
        ]
       ],
       "shape": {
        "columns": 1,
        "rows": 31
       }
      },
      "text/plain": [
       "fav_sports\n",
       "basketball                                   21\n",
       "football                                     14\n",
       "soccer                                       13\n",
       "baseball                                      5\n",
       "tennis                                        3\n",
       "hockey                                        2\n",
       "college basketball                            2\n",
       "track n field                                 1\n",
       "basketball or beach volleyball                1\n",
       "i rarely watch tv but enjoy video games 😁     1\n",
       "nfl football                                  1\n",
       "soccer or f1                                  1\n",
       "volleyball                                    1\n",
       "golf                                          1\n",
       "cornhole                                      1\n",
       "olympic women’s gymnastics                    1\n",
       "supercross                                    1\n",
       "swimming and football (close)                 1\n",
       "hurling                                       1\n",
       "american football                             1\n",
       "soccer?                                       1\n",
       "none i watch reality tv                       1\n",
       "golf or soccer                                1\n",
       "i don’t usually watch sports                  1\n",
       "hockey (if i ever watch sports)               1\n",
       "track & field                                 1\n",
       "snooker                                       1\n",
       "f1                                            1\n",
       "formula 1                                     1\n",
       "college football                              1\n",
       "men’s volleyball                              1\n",
       "Name: count, dtype: int64"
      ]
     },
     "execution_count": 18,
     "metadata": {},
     "output_type": "execute_result"
    }
   ],
   "source": [
    "# making format universal\n",
    "sport = df['fav_sports'].str.lower().str.strip()\n",
    "sport.value_counts()"
   ]
  },
  {
   "cell_type": "code",
   "execution_count": 19,
   "id": "668b1b9e",
   "metadata": {},
   "outputs": [
    {
     "data": {
      "application/vnd.microsoft.datawrangler.viewer.v0+json": {
       "columns": [
        {
         "name": "index",
         "rawType": "object",
         "type": "string"
        },
        {
         "name": "88",
         "rawType": "object",
         "type": "unknown"
        }
       ],
       "ref": "69676763-b8ac-4e25-ad0f-52335c789c88",
       "rows": [
        [
         "Timestamp",
         "8/27/2025 11:08:44"
        ],
        [
         "phone_type",
         "iPhone"
        ],
        [
         "undergrad_major",
         "statistics"
        ],
        [
         "num_cups",
         "0"
        ],
        [
         "sleep_hrs",
         "7.0"
        ],
        [
         "fav_sports",
         null
        ],
        [
         "ds_skills",
         "5"
        ],
        [
         "outdoor_hrs",
         "1"
        ],
        [
         "ai_tools_use",
         "Sometimes"
        ],
        [
         "ideal_temp",
         "65"
        ],
        [
         "phone_hrs",
         "8"
        ],
        [
         "music_while_studying",
         "Yes"
        ],
        [
         "music_genre",
         "All"
        ],
        [
         "num_states",
         "16"
        ],
        [
         "fav_season",
         "Summer"
        ],
        [
         "study_env",
         "quiet, indoors, sunny"
        ],
        [
         "summer_desc",
         "Busy"
        ]
       ],
       "shape": {
        "columns": 1,
        "rows": 17
       }
      },
      "text/plain": [
       "Timestamp                  8/27/2025 11:08:44\n",
       "phone_type                             iPhone\n",
       "undergrad_major                    statistics\n",
       "num_cups                                    0\n",
       "sleep_hrs                                 7.0\n",
       "fav_sports                                NaN\n",
       "ds_skills                                   5\n",
       "outdoor_hrs                                 1\n",
       "ai_tools_use                        Sometimes\n",
       "ideal_temp                                 65\n",
       "phone_hrs                                   8\n",
       "music_while_studying                      Yes\n",
       "music_genre                               All\n",
       "num_states                                 16\n",
       "fav_season                             Summer\n",
       "study_env               quiet, indoors, sunny\n",
       "summer_desc                              Busy\n",
       "Name: 88, dtype: object"
      ]
     },
     "execution_count": 19,
     "metadata": {},
     "output_type": "execute_result"
    }
   ],
   "source": [
    "type(sport)\n",
    "df.loc[88]"
   ]
  },
  {
   "cell_type": "code",
   "execution_count": 20,
   "id": "16aba140",
   "metadata": {},
   "outputs": [],
   "source": [
    "sport = sport.fillna('no favorite')\n",
    "\n",
    "sport[sport.str.contains('basketball')] = 'basketball'\n",
    "sport[sport.str.contains('volleyball')] = 'volleyball'\n",
    "sport[sport.str.contains('football')] = 'football'\n",
    "sport[sport.str.contains('hockey')] = 'hockey'\n",
    "sport[sport.str.contains('track')] = 'track'\n",
    "sport[sport.str.contains('golf')] = 'golf'\n",
    "sport[sport.str.contains('soccer')] = 'soccer'\n",
    "\n",
    "sport = sport.replace(['i rarely watch tv but enjoy video games 😁',\n",
    "                       'none i watch reality tv',\n",
    "                       'i don’t usually watch sports'], None)\n",
    "\n",
    "sport = sport.replace('olympic women’s gymnastics','gymnastics')\n",
    "sport = sport.replace('f1','formula 1')\n"
   ]
  },
  {
   "cell_type": "code",
   "execution_count": 21,
   "id": "386e0b2b",
   "metadata": {},
   "outputs": [
    {
     "data": {
      "application/vnd.microsoft.datawrangler.viewer.v0+json": {
       "columns": [
        {
         "name": "fav_sports",
         "rawType": "object",
         "type": "string"
        },
        {
         "name": "count",
         "rawType": "int64",
         "type": "integer"
        }
       ],
       "ref": "f11e3500-67ad-4a8f-a6cf-24bbcf055822",
       "rows": [
        [
         "basketball",
         "24"
        ],
        [
         "football",
         "18"
        ],
        [
         "soccer",
         "15"
        ],
        [
         "no favorite",
         "6"
        ],
        [
         "baseball",
         "5"
        ],
        [
         "tennis",
         "3"
        ],
        [
         "hockey",
         "3"
        ],
        [
         "formula 1",
         "2"
        ],
        [
         "track",
         "2"
        ],
        [
         "golf",
         "2"
        ],
        [
         "volleyball",
         "2"
        ],
        [
         "snooker",
         "1"
        ],
        [
         "hurling",
         "1"
        ],
        [
         "cornhole",
         "1"
        ],
        [
         "gymnastics",
         "1"
        ],
        [
         "supercross",
         "1"
        ]
       ],
       "shape": {
        "columns": 1,
        "rows": 16
       }
      },
      "text/plain": [
       "fav_sports\n",
       "basketball     24\n",
       "football       18\n",
       "soccer         15\n",
       "no favorite     6\n",
       "baseball        5\n",
       "tennis          3\n",
       "hockey          3\n",
       "formula 1       2\n",
       "track           2\n",
       "golf            2\n",
       "volleyball      2\n",
       "snooker         1\n",
       "hurling         1\n",
       "cornhole        1\n",
       "gymnastics      1\n",
       "supercross      1\n",
       "Name: count, dtype: int64"
      ]
     },
     "execution_count": 21,
     "metadata": {},
     "output_type": "execute_result"
    }
   ],
   "source": [
    "sport.value_counts()"
   ]
  },
  {
   "cell_type": "code",
   "execution_count": 22,
   "id": "30528d80",
   "metadata": {},
   "outputs": [],
   "source": [
    "df['fav_sports'] = sport"
   ]
  },
  {
   "cell_type": "markdown",
   "id": "b81fd9ae",
   "metadata": {},
   "source": [
    "### Hours Outdoors"
   ]
  },
  {
   "cell_type": "code",
   "execution_count": 23,
   "id": "febfe8e9",
   "metadata": {},
   "outputs": [
    {
     "data": {
      "application/vnd.microsoft.datawrangler.viewer.v0+json": {
       "columns": [
        {
         "name": "outdoor_hrs",
         "rawType": "object",
         "type": "string"
        },
        {
         "name": "count",
         "rawType": "int64",
         "type": "integer"
        }
       ],
       "ref": "228c5d29-b989-4b1f-a906-8712d37c8b75",
       "rows": [
        [
         "2",
         "28"
        ],
        [
         "3",
         "18"
        ],
        [
         "1",
         "16"
        ],
        [
         "4",
         "12"
        ],
        [
         "0.5",
         "2"
        ],
        [
         "5",
         "2"
        ],
        [
         "7",
         "2"
        ],
        [
         "3 to 4",
         "1"
        ],
        [
         "1-2",
         "1"
        ],
        [
         "2ish",
         "1"
        ],
        [
         "1h",
         "1"
        ],
        [
         "1,2",
         "1"
        ],
        [
         "0.5-1",
         "1"
        ],
        [
         "1-3",
         "1"
        ],
        [
         "As few as possible",
         "1"
        ],
        [
         "1 hour",
         "1"
        ]
       ],
       "shape": {
        "columns": 1,
        "rows": 16
       }
      },
      "text/plain": [
       "outdoor_hrs\n",
       "2                     28\n",
       "3                     18\n",
       "1                     16\n",
       "4                     12\n",
       "0.5                    2\n",
       "5                      2\n",
       "7                      2\n",
       "3 to 4                 1\n",
       "1-2                    1\n",
       "2ish                   1\n",
       "1h                     1\n",
       "1,2                    1\n",
       "0.5-1                  1\n",
       "1-3                    1\n",
       "As few as possible     1\n",
       "1 hour                 1\n",
       "Name: count, dtype: int64"
      ]
     },
     "execution_count": 23,
     "metadata": {},
     "output_type": "execute_result"
    }
   ],
   "source": [
    "outdoors = df['outdoor_hrs'].str.strip()\n",
    "\n",
    "outdoors.value_counts()"
   ]
  },
  {
   "cell_type": "code",
   "execution_count": 24,
   "id": "555f8f48",
   "metadata": {},
   "outputs": [],
   "source": [
    "outdoors = outdoors.replace('As few as possible', 0)\n",
    "outdoors = outdoors.replace(['1h','0.5-1','1 hour'],1)\n",
    "outdoors = outdoors.replace(['1-2','1,2','2ish'],2)\n",
    "outdoors = outdoors.replace('1-3', 3)\n",
    "outdoors = outdoors.replace('3 to 4', 4)\n",
    "\n",
    "outdoors = pd.to_numeric(outdoors)"
   ]
  },
  {
   "cell_type": "code",
   "execution_count": 25,
   "id": "76cff669",
   "metadata": {},
   "outputs": [
    {
     "data": {
      "application/vnd.microsoft.datawrangler.viewer.v0+json": {
       "columns": [
        {
         "name": "outdoor_hrs",
         "rawType": "float64",
         "type": "float"
        },
        {
         "name": "count",
         "rawType": "int64",
         "type": "integer"
        }
       ],
       "ref": "178015bc-3626-4469-a863-1f80edfd844d",
       "rows": [
        [
         "2.0",
         "31"
        ],
        [
         "1.0",
         "19"
        ],
        [
         "3.0",
         "19"
        ],
        [
         "4.0",
         "13"
        ],
        [
         "0.5",
         "2"
        ],
        [
         "5.0",
         "2"
        ],
        [
         "7.0",
         "2"
        ],
        [
         "0.0",
         "1"
        ]
       ],
       "shape": {
        "columns": 1,
        "rows": 8
       }
      },
      "text/plain": [
       "outdoor_hrs\n",
       "2.0    31\n",
       "1.0    19\n",
       "3.0    19\n",
       "4.0    13\n",
       "0.5     2\n",
       "5.0     2\n",
       "7.0     2\n",
       "0.0     1\n",
       "Name: count, dtype: int64"
      ]
     },
     "execution_count": 25,
     "metadata": {},
     "output_type": "execute_result"
    }
   ],
   "source": [
    "outdoors.value_counts()"
   ]
  },
  {
   "cell_type": "code",
   "execution_count": 26,
   "id": "e58bb8fe",
   "metadata": {},
   "outputs": [],
   "source": [
    "df['outdoor_hrs'] = outdoors"
   ]
  },
  {
   "cell_type": "markdown",
   "id": "248ccaa5",
   "metadata": {},
   "source": [
    "### AI Tool Usage"
   ]
  },
  {
   "cell_type": "code",
   "execution_count": 27,
   "id": "4b11001d",
   "metadata": {},
   "outputs": [
    {
     "data": {
      "application/vnd.microsoft.datawrangler.viewer.v0+json": {
       "columns": [
        {
         "name": "ai_tools_use",
         "rawType": "object",
         "type": "unknown"
        },
        {
         "name": "count",
         "rawType": "int64",
         "type": "integer"
        }
       ],
       "ref": "f373dafd-477e-4702-9250-75a64d8fd09f",
       "rows": [
        [
         "often",
         "39"
        ],
        [
         "sometimes",
         "29"
        ],
        [
         "rarely",
         "10"
        ],
        [
         "always",
         "8"
        ],
        [
         "never",
         "3"
        ],
        [
         null,
         "1"
        ]
       ],
       "shape": {
        "columns": 1,
        "rows": 6
       }
      },
      "text/plain": [
       "ai_tools_use\n",
       "often        39\n",
       "sometimes    29\n",
       "rarely       10\n",
       "always        8\n",
       "never         3\n",
       "NaN           1\n",
       "Name: count, dtype: int64"
      ]
     },
     "execution_count": 27,
     "metadata": {},
     "output_type": "execute_result"
    }
   ],
   "source": [
    "ai = df['ai_tools_use'].str.lower()\n",
    "\n",
    "ai.value_counts(dropna=False)"
   ]
  },
  {
   "cell_type": "code",
   "execution_count": null,
   "id": "86610f87",
   "metadata": {},
   "outputs": [],
   "source": [
    "# assume missing values are 'never'\n",
    "ai = ai.fillna('never')"
   ]
  },
  {
   "cell_type": "code",
   "execution_count": 29,
   "id": "0866f8dd",
   "metadata": {},
   "outputs": [
    {
     "data": {
      "application/vnd.microsoft.datawrangler.viewer.v0+json": {
       "columns": [
        {
         "name": "ai_tools_use",
         "rawType": "object",
         "type": "string"
        },
        {
         "name": "count",
         "rawType": "int64",
         "type": "integer"
        }
       ],
       "ref": "62cc7d8e-8bbe-400e-acd8-3b03d5ee9ee0",
       "rows": [
        [
         "often",
         "39"
        ],
        [
         "sometimes",
         "29"
        ],
        [
         "rarely",
         "10"
        ],
        [
         "always",
         "8"
        ],
        [
         "never",
         "4"
        ]
       ],
       "shape": {
        "columns": 1,
        "rows": 5
       }
      },
      "text/plain": [
       "ai_tools_use\n",
       "often        39\n",
       "sometimes    29\n",
       "rarely       10\n",
       "always        8\n",
       "never         4\n",
       "Name: count, dtype: int64"
      ]
     },
     "execution_count": 29,
     "metadata": {},
     "output_type": "execute_result"
    }
   ],
   "source": [
    "ai.value_counts()"
   ]
  },
  {
   "cell_type": "code",
   "execution_count": 30,
   "id": "a31eefc5",
   "metadata": {},
   "outputs": [],
   "source": [
    "df['ai_tools_use'] = ai"
   ]
  },
  {
   "cell_type": "markdown",
   "id": "a3a498ff",
   "metadata": {},
   "source": [
    "### Ideal Temperature"
   ]
  },
  {
   "cell_type": "code",
   "execution_count": null,
   "id": "a6a7b9d3",
   "metadata": {},
   "outputs": [],
   "source": [
    "temp = df['ideal_temp']\n",
    "temp.value_counts()\n",
    "\n",
    "# picking temperatures base on numeric values given\n",
    "temp = temp.replace('[A-Za-z]','',regex=True).str.strip()\n",
    "\n",
    "df['ideal_temp'] = pd.to_numeric(temp)"
   ]
  },
  {
   "cell_type": "markdown",
   "id": "d5e1bf77",
   "metadata": {},
   "source": [
    "### Phone Hours"
   ]
  },
  {
   "cell_type": "code",
   "execution_count": 210,
   "id": "d487300c",
   "metadata": {},
   "outputs": [
    {
     "data": {
      "text/plain": [
       "phone_hrs\n",
       "4                         18\n",
       "8                         12\n",
       "5                         11\n",
       "6                          6\n",
       "7                          5\n",
       "2                          4\n",
       "3                          3\n",
       "4.5                        2\n",
       "3.5                        2\n",
       "7.5                        2\n",
       "3 hours                    1\n",
       "5.5 hrs                    1\n",
       "10                         1\n",
       "9 hours                    1\n",
       "4 hours                    1\n",
       "2.6                        1\n",
       "8.5                        1\n",
       "5.5                        1\n",
       "5 hours                    1\n",
       "2.5 hours                  1\n",
       "2hr 59min                  1\n",
       "3-4                        1\n",
       "probably 4-6               1\n",
       "6 hours and 38 minutes     1\n",
       "4h                         1\n",
       "1.25                       1\n",
       "2.5                        1\n",
       "5:45                       1\n",
       "6.5                        1\n",
       "2hrs 58min                 1\n",
       "9                          1\n",
       "7 hours                    1\n",
       "18                         1\n",
       "2 to 3                     1\n",
       "1 hour 46 minutes          1\n",
       "Name: count, dtype: int64"
      ]
     },
     "execution_count": 210,
     "metadata": {},
     "output_type": "execute_result"
    }
   ],
   "source": [
    "phone = df['phone_hrs'].str.strip()\n",
    "phone.value_counts(dropna=False)"
   ]
  },
  {
   "cell_type": "code",
   "execution_count": null,
   "id": "c109a47a",
   "metadata": {},
   "outputs": [],
   "source": [
    "# rounding all values up\n",
    "phone = phone.replace(['1 hour 46 minutes','1.25'], 2)\n",
    "phone = phone.replace(['3 hours','2hr 59min','2.5','2hrs 58min','2 to 3',\"2.5 hours\",'2.6'], 3)\n",
    "phone = phone.replace(['3.5','3-4','4 hours','4h'], 4)\n",
    "phone = phone.replace(['4.5','5 hours',], 5)\n",
    "phone = phone.replace(['5.5','5:45','5.5 hrs', \"probably 4-6\"], 6)\n",
    "phone = phone.replace(['7 hours','6 hours and 38 minutes','6.5'], 7)\n",
    "phone = phone.replace('7.5', 8)\n",
    "phone = phone.replace(['9 hours','8.5'], 9)"
   ]
  },
  {
   "cell_type": "code",
   "execution_count": 225,
   "id": "811962d7",
   "metadata": {},
   "outputs": [
    {
     "data": {
      "text/plain": [
       "phone_hrs\n",
       "4     18\n",
       "8     12\n",
       "5     11\n",
       "3      7\n",
       "6      6\n",
       "4      5\n",
       "7      5\n",
       "2      4\n",
       "6      4\n",
       "7      3\n",
       "5      3\n",
       "3      3\n",
       "8      2\n",
       "2      2\n",
       "9      2\n",
       "9      1\n",
       "18     1\n",
       "10     1\n",
       "Name: count, dtype: int64"
      ]
     },
     "execution_count": 225,
     "metadata": {},
     "output_type": "execute_result"
    }
   ],
   "source": [
    "phone.value_counts()"
   ]
  },
  {
   "cell_type": "code",
   "execution_count": 227,
   "id": "4d10df9d",
   "metadata": {},
   "outputs": [],
   "source": [
    "df['phone_hrs'] = pd.to_numeric(phone)"
   ]
  },
  {
   "cell_type": "markdown",
   "id": "a24f0550",
   "metadata": {},
   "source": [
    "### Music While Studying"
   ]
  },
  {
   "cell_type": "code",
   "execution_count": 228,
   "id": "8362933b",
   "metadata": {},
   "outputs": [
    {
     "data": {
      "text/plain": [
       "music_while_studying\n",
       "Yes    56\n",
       "No     34\n",
       "Name: count, dtype: int64"
      ]
     },
     "execution_count": 228,
     "metadata": {},
     "output_type": "execute_result"
    }
   ],
   "source": [
    "music = df['music_while_studying']\n",
    "music.value_counts()"
   ]
  },
  {
   "cell_type": "markdown",
   "id": "d53b9675",
   "metadata": {},
   "source": [
    "### Music Genre"
   ]
  },
  {
   "cell_type": "code",
   "execution_count": null,
   "id": "364633f3",
   "metadata": {},
   "outputs": [
    {
     "data": {
      "text/plain": [
       "music_genre\n",
       "pop                                      14\n",
       "rock                                      6\n",
       "r&b                                       5\n",
       "rap                                       4\n",
       "indie                                     4\n",
       "country                                   4\n",
       "rnb                                       3\n",
       "jazz                                      3\n",
       "edm                                       3\n",
       "hip-hop                                   2\n",
       "classic rock                              2\n",
       "reggaeton                                 2\n",
       "alternative                               2\n",
       "country/folk                              2\n",
       "folk                                      2\n",
       "funk/yacht rock                           1\n",
       "80s pop                                   1\n",
       "pop punk/riot grrl                        1\n",
       "r&b but typically based on daily mood     1\n",
       "bluegrass                                 1\n",
       "soft pop                                  1\n",
       "80s music                                 1\n",
       "kpop                                      1\n",
       "rock/pop                                  1\n",
       "hip hop                                   1\n",
       "no music                                  1\n",
       "girly pop                                 1\n",
       "jazz-pop                                  1\n",
       "all                                       1\n",
       "trap                                      1\n",
       "folk rock                                 1\n",
       "alt/indie                                 1\n",
       "k-pop                                     1\n",
       "instrumental                              1\n",
       "indie pop                                 1\n",
       "edm/house                                 1\n",
       "hardcore/punk                             1\n",
       "house                                     1\n",
       "afrobeats                                 1\n",
       "anything but country                      1\n",
       "classical                                 1\n",
       "alternative rock                          1\n",
       "rock/metal                                1\n",
       "rap/rock                                  1\n",
       "rap/r&b                                   1\n",
       "techno                                    1\n",
       "classical piano music and pop music       1\n",
       "Name: count, dtype: int64"
      ]
     },
     "execution_count": 288,
     "metadata": {},
     "output_type": "execute_result"
    }
   ],
   "source": [
    "# standardizing format\n",
    "genre = df['music_genre'].str.lower().str.strip()\n",
    "\n",
    "# changing missing values to 'no music\n",
    "genre = genre.fillna('no music')\n",
    "\n",
    "# checking progress\n",
    "genre.value_counts(dropna=False)"
   ]
  },
  {
   "cell_type": "code",
   "execution_count": 289,
   "id": "b783ea84",
   "metadata": {},
   "outputs": [
    {
     "data": {
      "text/plain": [
       "1              edm/house\n",
       "4           country/folk\n",
       "6                rap/r&b\n",
       "12              rap/rock\n",
       "19            rock/metal\n",
       "37         hardcore/punk\n",
       "54             alt/indie\n",
       "55              rock/pop\n",
       "61       funk/yacht rock\n",
       "64    pop punk/riot grrl\n",
       "75          country/folk\n",
       "Name: music_genre, dtype: object"
      ]
     },
     "execution_count": 289,
     "metadata": {},
     "output_type": "execute_result"
    }
   ],
   "source": [
    "genre[genre.str.contains('/')]"
   ]
  },
  {
   "cell_type": "code",
   "execution_count": 304,
   "id": "65d5a37c",
   "metadata": {},
   "outputs": [
    {
     "data": {
      "text/plain": [
       "music_genre\n",
       "pop             24\n",
       "rock            10\n",
       "r&b              9\n",
       "country          6\n",
       "rap              6\n",
       "indie            4\n",
       "edm              4\n",
       "alternative      4\n",
       "jazz             3\n",
       "hip-hop          3\n",
       "all              2\n",
       "folk             2\n",
       "reggaeton        2\n",
       "instrumental     1\n",
       "80s music        1\n",
       "bluegrass        1\n",
       "funk             1\n",
       "trap             1\n",
       "afrobeats        1\n",
       "hardcore         1\n",
       "house            1\n",
       "classical        1\n",
       "techno           1\n",
       "no music         1\n",
       "Name: count, dtype: int64"
      ]
     },
     "execution_count": 304,
     "metadata": {},
     "output_type": "execute_result"
    }
   ],
   "source": [
    "# generalze genres\n",
    "genre[genre.str.contains('pop')] = 'pop'\n",
    "genre[genre.str.contains('classical')] = 'classical'\n",
    "genre[genre.str.contains('alt')] = 'alternative'\n",
    "\n",
    "# choose first genre when 2 listed\n",
    "genre = genre.replace(['rock','rock/pop','rock/metal'], 'rock')\n",
    "genre = genre.replace(['rap/r&b','rap/rock'],'rap')\n",
    "genre = genre.replace('country/folk','country')\n",
    "genre = genre.replace('edm/house','edm')\n",
    "genre = genre.replace('funk/yacht rock','funk')\n",
    "genre = genre.replace('hardcore/punk', 'hardcore')\n",
    "\n",
    "# combine similar answers\n",
    "genre = genre.replace(['rnb', 'r&b but typically based on daily mood'], 'r&b')\n",
    "genre = genre.replace('anything but country', 'all')\n",
    "genre = genre.replace('hip hop', 'hip-hop')\n",
    "genre[genre.str.contains('rock')] = 'rock'\n",
    "\n",
    "genre.value_counts(dropna=False)"
   ]
  },
  {
   "cell_type": "code",
   "execution_count": 305,
   "id": "6d5805de",
   "metadata": {},
   "outputs": [],
   "source": [
    "df['music_genre'] = genre"
   ]
  },
  {
   "cell_type": "markdown",
   "id": "46bc12f8",
   "metadata": {},
   "source": [
    "### Number of States Visited"
   ]
  },
  {
   "cell_type": "code",
   "execution_count": null,
   "id": "1d61ab09",
   "metadata": {},
   "outputs": [],
   "source": []
  },
  {
   "cell_type": "markdown",
   "id": "1964ec71",
   "metadata": {},
   "source": [
    "### Favorite Season"
   ]
  },
  {
   "cell_type": "code",
   "execution_count": null,
   "id": "1d02bc75",
   "metadata": {},
   "outputs": [],
   "source": []
  },
  {
   "cell_type": "markdown",
   "id": "bac81819",
   "metadata": {},
   "source": [
    "### Study Environment"
   ]
  },
  {
   "cell_type": "code",
   "execution_count": null,
   "id": "2c2c57a3",
   "metadata": {},
   "outputs": [],
   "source": []
  },
  {
   "cell_type": "code",
   "execution_count": null,
   "id": "1aafd8bb",
   "metadata": {},
   "outputs": [],
   "source": []
  },
  {
   "cell_type": "markdown",
   "id": "b9fbe672",
   "metadata": {},
   "source": [
    "### Word to Describe Summer"
   ]
  },
  {
   "cell_type": "code",
   "execution_count": null,
   "id": "473fdf24",
   "metadata": {},
   "outputs": [],
   "source": []
  }
 ],
 "metadata": {
  "kernelspec": {
   "display_name": "ds6001",
   "language": "python",
   "name": "python3"
  },
  "language_info": {
   "codemirror_mode": {
    "name": "ipython",
    "version": 3
   },
   "file_extension": ".py",
   "mimetype": "text/x-python",
   "name": "python",
   "nbconvert_exporter": "python",
   "pygments_lexer": "ipython3",
   "version": "3.13.5"
  }
 },
 "nbformat": 4,
 "nbformat_minor": 5
}
